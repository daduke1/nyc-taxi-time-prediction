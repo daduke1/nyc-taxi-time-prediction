{
 "cells": [
  {
   "cell_type": "code",
   "execution_count": 5,
   "id": "initial_id",
   "metadata": {
    "ExecuteTime": {
     "end_time": "2024-09-21T00:14:24.467892Z",
     "start_time": "2024-09-21T00:14:23.936664Z"
    }
   },
   "outputs": [],
   "source": [
    "import pandas as pd\n",
    "import pickle\n",
    "from sklearn.metrics import  root_mean_squared_error\n",
    "from sklearn.feature_extraction import  DictVectorizer"
   ]
  },
  {
   "cell_type": "markdown",
   "id": "eadc847b-a953-4a87-8eba-9389bedfb709",
   "metadata": {},
   "source": [
    "Cargar el dataset"
   ]
  },
  {
   "cell_type": "code",
   "execution_count": 6,
   "id": "7c2633aa-d7de-4339-87c3-622d29972aa7",
   "metadata": {},
   "outputs": [
    {
     "name": "stdout",
     "output_type": "stream",
     "text": [
      "  % Total    % Received % Xferd  Average Speed   Time    Time     Time  Current\n",
      "                                 Dload  Upload   Total   Spent    Left  Speed\n",
      "100 1330k  100 1330k    0     0  1381k      0 --:--:-- --:--:-- --:--:-- 1381k\n",
      "  % Total    % Received % Xferd  Average Speed   Time    Time     Time  Current\n",
      "                                 Dload  Upload   Total   Spent    Left  Speed\n",
      "100 1253k  100 1253k    0     0  1400k      0 --:--:-- --:--:-- --:--:-- 1400k\n"
     ]
    }
   ],
   "source": [
    "# Create the directory if it doesn't exist\n",
    "!mkdir -p ../data\n",
    "\n",
    "# Download files using curl\n",
    "!curl -o ../data/green_tripdata_2024-01.parquet https://d37ci6vzurychx.cloudfront.net/trip-data/green_tripdata_2024-01.parquet\n",
    "!curl -o ../data/green_tripdata_2024-02.parquet https://d37ci6vzurychx.cloudfront.net/trip-data/green_tripdata_2024-02.parquet"
   ]
  },
  {
   "cell_type": "code",
   "execution_count": 7,
   "id": "b6f9c88d98cabbc1",
   "metadata": {},
   "outputs": [],
   "source": [
    "def read_dataframe(filename):\n",
    "\n",
    "    df = pd.read_parquet(filename)\n",
    "\n",
    "    df['duration'] = df.lpep_dropoff_datetime - df.lpep_pickup_datetime\n",
    "    df.duration = df.duration.apply(lambda td: td.total_seconds() / 60)\n",
    "\n",
    "    df = df[(df.duration >= 1) & (df.duration <= 60)]\n",
    "\n",
    "    categorical = ['PULocationID', 'DOLocationID']\n",
    "    df[categorical] = df[categorical].astype(str)\n",
    "\n",
    "    return df"
   ]
  },
  {
   "cell_type": "code",
   "execution_count": 8,
   "id": "d477301f-a82c-44f4-b601-23421745b13b",
   "metadata": {},
   "outputs": [],
   "source": [
    "df_train = read_dataframe('../data/green_tripdata_2024-01.parquet')\n",
    "df_val = read_dataframe('../data/green_tripdata_2024-02.parquet')"
   ]
  },
  {
   "cell_type": "code",
   "execution_count": 9,
   "id": "8cffecd7-767b-4de7-a42f-78fb4cbd0e13",
   "metadata": {},
   "outputs": [],
   "source": [
    "df_train['PU_DO'] = df_train['PULocationID'] + '_' + df_train['DOLocationID']\n",
    "df_val['PU_DO'] = df_val['PULocationID'] + '_' + df_val['DOLocationID']"
   ]
  },
  {
   "cell_type": "code",
   "execution_count": 10,
   "id": "be3e32d1-5902-4de8-804f-79f92d39831f",
   "metadata": {},
   "outputs": [],
   "source": [
    "categorical = ['PU_DO']  #'PULocationID', 'DOLocationID']\n",
    "numerical = ['trip_distance']\n",
    "dv = DictVectorizer()\n",
    "\n",
    "train_dicts = df_train[categorical + numerical].to_dict(orient='records')\n",
    "X_train = dv.fit_transform(train_dicts)\n",
    "\n",
    "val_dicts = df_val[categorical + numerical].to_dict(orient='records')\n",
    "X_val = dv.transform(val_dicts)"
   ]
  },
  {
   "cell_type": "code",
   "execution_count": 11,
   "id": "322b8c47-0053-4397-b201-cd29adb36edf",
   "metadata": {},
   "outputs": [],
   "source": [
    "target = 'duration'\n",
    "y_train = df_train[target].values\n",
    "y_val = df_val[target].values"
   ]
  },
  {
   "cell_type": "markdown",
   "id": "d78a9e82-3927-4b32-bdc5-ba8b763142c9",
   "metadata": {},
   "source": [
    "Conectarse a dagshub"
   ]
  },
  {
   "cell_type": "code",
   "execution_count": 12,
   "id": "fa2b7d84-5442-4d43-8308-dac33eb87965",
   "metadata": {},
   "outputs": [
    {
     "data": {
      "text/html": [
       "<pre style=\"white-space:pre;overflow-x:auto;line-height:normal;font-family:Menlo,'DejaVu Sans Mono',consolas,'Courier New',monospace\">Accessing as daduke1\n",
       "</pre>\n"
      ],
      "text/plain": [
       "Accessing as daduke1\n"
      ]
     },
     "metadata": {},
     "output_type": "display_data"
    },
    {
     "data": {
      "text/html": [
       "<pre style=\"white-space:pre;overflow-x:auto;line-height:normal;font-family:Menlo,'DejaVu Sans Mono',consolas,'Courier New',monospace\">Initialized MLflow to track repo <span style=\"color: #008000; text-decoration-color: #008000\">\"daduke1/nyc-taxi-time-prediction\"</span>\n",
       "</pre>\n"
      ],
      "text/plain": [
       "Initialized MLflow to track repo \u001B[32m\"daduke1/nyc-taxi-time-prediction\"\u001B[0m\n"
      ]
     },
     "metadata": {},
     "output_type": "display_data"
    },
    {
     "data": {
      "text/html": [
       "<pre style=\"white-space:pre;overflow-x:auto;line-height:normal;font-family:Menlo,'DejaVu Sans Mono',consolas,'Courier New',monospace\">Repository daduke1/nyc-taxi-time-prediction initialized!\n",
       "</pre>\n"
      ],
      "text/plain": [
       "Repository daduke1/nyc-taxi-time-prediction initialized!\n"
      ]
     },
     "metadata": {},
     "output_type": "display_data"
    },
    {
     "name": "stdout",
     "output_type": "stream",
     "text": [
      "https://dagshub.com/daduke1/nyc-taxi-time-prediction.mlflow\n"
     ]
    },
    {
     "data": {
      "text/plain": [
       "<Experiment: artifact_location='mlflow-artifacts:/655077ef21ea4d658c388a4f45673d3f', creation_time=1726875513781, experiment_id='0', last_update_time=1726875513781, lifecycle_stage='active', name='nyc-taxi-experiment', tags={}>"
      ]
     },
     "execution_count": 12,
     "metadata": {},
     "output_type": "execute_result"
    }
   ],
   "source": [
    "import dagshub\n",
    "import mlflow\n",
    "\n",
    "\n",
    "dagshub.init(url=\"https://dagshub.com/daduke1/nyc-taxi-time-prediction\", mlflow=True)\n",
    "\n",
    "MLFLOW_TRACKING_URI = mlflow.get_tracking_uri()\n",
    "\n",
    "print(MLFLOW_TRACKING_URI)\n",
    "\n",
    "mlflow.set_tracking_uri(MLFLOW_TRACKING_URI)\n",
    "mlflow.set_experiment(experiment_name=\"nyc-taxi-experiment\")"
   ]
  },
  {
   "cell_type": "code",
   "execution_count": 13,
   "id": "e166f302-a19e-438c-8516-3d5f0696ff12",
   "metadata": {},
   "outputs": [],
   "source": [
    "mlflow.set_experiment(experiment_name=\"nyc-taxi-experiment\")\n",
    "##%%\n",
    "training_dataset = mlflow.data.from_numpy(X_train.data, targets=y_train, name=\"green_tripdata_2024-01\")\n",
    "validation_dataset = mlflow.data.from_numpy(X_val.data, targets=y_val, name=\"green_tripdata_2024-02\")"
   ]
  },
  {
   "cell_type": "markdown",
   "id": "2bbf08fa-c14c-4588-a0f3-9b168c326e11",
   "metadata": {},
   "source": [
    "Definir los dataset como objetos de mlflow para poderlos trackear"
   ]
  },
  {
   "cell_type": "code",
   "execution_count": 15,
   "id": "699ea8d9-13c6-4e30-bec0-42cb36868f7c",
   "metadata": {},
   "outputs": [],
   "source": [
    "training_dataset = mlflow.data.from_numpy(X_train.data, targets=y_train, name=\"green_tripdata_2024-01\")\n",
    "validation_dataset = mlflow.data.from_numpy(X_val.data, targets=y_val, name=\"green_tripdata_2024-02\")"
   ]
  },
  {
   "cell_type": "code",
   "execution_count": 20,
   "id": "e6a054da-bd0c-47f4-a0d3-10b0ef5b352f",
   "metadata": {},
   "outputs": [],
   "source": [
    "from sklearn.metrics import root_mean_squared_error\n",
    "from sklearn.feature_extraction import DictVectorizer\n",
    "from sklearn.linear_model import Lasso, Ridge, LinearRegression\n",
    "from sklearn.ensemble import RandomForestRegressor\n",
    "import pathlib\n",
    "from sklearn.metrics import mean_squared_error\n",
    "from hyperopt import fmin, tpe, hp, STATUS_OK, Trials\n",
    "import numpy as np\n",
    "from sklearn.model_selection import train_test_split\n",
    "from sklearn.ensemble import GradientBoostingRegressor, RandomForestRegressor\n",
    "from sklearn.model_selection import RandomizedSearchCV\n",
    "from sklearn.metrics import mean_squared_error\n",
    "from hyperopt.pyll.base import scope"
   ]
  },
  {
   "cell_type": "markdown",
   "id": "0cc67f1f-5321-420a-8c22-151b32c9600a",
   "metadata": {},
   "source": [
    "Entrenamiento de modelo Gradient Boost"
   ]
  },
  {
   "cell_type": "code",
   "execution_count": 23,
   "id": "fe3e57fa-cd3b-4e8d-b5ea-e873c3ef5eff",
   "metadata": {},
   "outputs": [
    {
     "name": "stdout",
     "output_type": "stream",
     "text": [
      "  0%|          | 0/10 [00:00<?, ?trial/s, best loss=?]"
     ]
    },
    {
     "name": "stderr",
     "output_type": "stream",
     "text": [
      "2024/09/20 18:55:08 WARNING mlflow.sklearn: Failed to log training dataset information to MLflow Tracking. Reason: 'numpy.ndarray' object has no attribute 'toarray'\n",
      "\n",
      "2024/09/20 18:55:20 WARNING mlflow.models.model: Model logged without a signature and input example. Please set `input_example` parameter when logging the model to auto infer the model signature.\n",
      "\n",
      "2024/09/20 18:55:26 INFO mlflow.tracking._tracking_service.client: 🏃 View run big-ant-494 at: https://dagshub.com/daduke1/nyc-taxi-time-prediction.mlflow/#/experiments/0/runs/49121f9897e444f6887ee11549b945c4.\n",
      "\n",
      "2024/09/20 18:55:26 INFO mlflow.tracking._tracking_service.client: 🧪 View experiment at: https://dagshub.com/daduke1/nyc-taxi-time-prediction.mlflow/#/experiments/0.\n",
      "\n"
     ]
    },
    {
     "name": "stdout",
     "output_type": "stream",
     "text": [
      " 10%|█         | 1/10 [00:18<02:50, 18.95s/trial, best loss: 5.368089137590123]"
     ]
    },
    {
     "name": "stderr",
     "output_type": "stream",
     "text": [
      "2024/09/20 18:55:27 WARNING mlflow.sklearn: Failed to log training dataset information to MLflow Tracking. Reason: 'numpy.ndarray' object has no attribute 'toarray'\n",
      "\n",
      "2024/09/20 18:55:34 WARNING mlflow.models.model: Model logged without a signature and input example. Please set `input_example` parameter when logging the model to auto infer the model signature.\n",
      "\n",
      "2024/09/20 18:55:40 INFO mlflow.tracking._tracking_service.client: 🏃 View run gregarious-fox-500 at: https://dagshub.com/daduke1/nyc-taxi-time-prediction.mlflow/#/experiments/0/runs/68be3601771a4e3a800865a87ef964b4.\n",
      "\n",
      "2024/09/20 18:55:40 INFO mlflow.tracking._tracking_service.client: 🧪 View experiment at: https://dagshub.com/daduke1/nyc-taxi-time-prediction.mlflow/#/experiments/0.\n",
      "\n"
     ]
    },
    {
     "name": "stdout",
     "output_type": "stream",
     "text": [
      " 20%|██        | 2/10 [00:33<02:10, 16.35s/trial, best loss: 5.368089137590123]"
     ]
    },
    {
     "name": "stderr",
     "output_type": "stream",
     "text": [
      "2024/09/20 18:55:41 WARNING mlflow.sklearn: Failed to log training dataset information to MLflow Tracking. Reason: 'numpy.ndarray' object has no attribute 'toarray'\n",
      "\n",
      "2024/09/20 18:55:51 WARNING mlflow.models.model: Model logged without a signature and input example. Please set `input_example` parameter when logging the model to auto infer the model signature.\n",
      "\n",
      "2024/09/20 18:55:56 INFO mlflow.tracking._tracking_service.client: 🏃 View run gaudy-koi-433 at: https://dagshub.com/daduke1/nyc-taxi-time-prediction.mlflow/#/experiments/0/runs/fbd744c9c10f42e5b6a2d01243ddb407.\n",
      "\n",
      "2024/09/20 18:55:56 INFO mlflow.tracking._tracking_service.client: 🧪 View experiment at: https://dagshub.com/daduke1/nyc-taxi-time-prediction.mlflow/#/experiments/0.\n",
      "\n"
     ]
    },
    {
     "name": "stdout",
     "output_type": "stream",
     "text": [
      " 30%|███       | 3/10 [00:49<01:53, 16.18s/trial, best loss: 5.3679468091329765]"
     ]
    },
    {
     "name": "stderr",
     "output_type": "stream",
     "text": [
      "2024/09/20 18:55:57 WARNING mlflow.sklearn: Failed to log training dataset information to MLflow Tracking. Reason: 'numpy.ndarray' object has no attribute 'toarray'\n",
      "\n",
      "2024/09/20 18:56:06 WARNING mlflow.models.model: Model logged without a signature and input example. Please set `input_example` parameter when logging the model to auto infer the model signature.\n",
      "\n",
      "2024/09/20 18:56:11 INFO mlflow.tracking._tracking_service.client: 🏃 View run monumental-fawn-69 at: https://dagshub.com/daduke1/nyc-taxi-time-prediction.mlflow/#/experiments/0/runs/f19a2de4d83b458285171b8214aaa120.\n",
      "\n",
      "2024/09/20 18:56:11 INFO mlflow.tracking._tracking_service.client: 🧪 View experiment at: https://dagshub.com/daduke1/nyc-taxi-time-prediction.mlflow/#/experiments/0.\n",
      "\n"
     ]
    },
    {
     "name": "stdout",
     "output_type": "stream",
     "text": [
      " 40%|████      | 4/10 [01:04<01:34, 15.81s/trial, best loss: 5.3679468091329765]"
     ]
    },
    {
     "name": "stderr",
     "output_type": "stream",
     "text": [
      "2024/09/20 18:56:12 WARNING mlflow.sklearn: Failed to log training dataset information to MLflow Tracking. Reason: 'numpy.ndarray' object has no attribute 'toarray'\n",
      "\n",
      "2024/09/20 18:56:20 WARNING mlflow.models.model: Model logged without a signature and input example. Please set `input_example` parameter when logging the model to auto infer the model signature.\n",
      "\n",
      "2024/09/20 18:56:26 INFO mlflow.tracking._tracking_service.client: 🏃 View run debonair-lamb-437 at: https://dagshub.com/daduke1/nyc-taxi-time-prediction.mlflow/#/experiments/0/runs/5aad34c0bfcf4bf19389533455dd0a75.\n",
      "\n",
      "2024/09/20 18:56:26 INFO mlflow.tracking._tracking_service.client: 🧪 View experiment at: https://dagshub.com/daduke1/nyc-taxi-time-prediction.mlflow/#/experiments/0.\n",
      "\n"
     ]
    },
    {
     "name": "stdout",
     "output_type": "stream",
     "text": [
      " 50%|█████     | 5/10 [01:19<01:16, 15.39s/trial, best loss: 5.3679468091329765]"
     ]
    },
    {
     "name": "stderr",
     "output_type": "stream",
     "text": [
      "2024/09/20 18:56:27 WARNING mlflow.sklearn: Failed to log training dataset information to MLflow Tracking. Reason: 'numpy.ndarray' object has no attribute 'toarray'\n",
      "\n",
      "2024/09/20 18:56:40 WARNING mlflow.models.model: Model logged without a signature and input example. Please set `input_example` parameter when logging the model to auto infer the model signature.\n",
      "\n",
      "2024/09/20 18:56:45 INFO mlflow.tracking._tracking_service.client: 🏃 View run casual-ram-743 at: https://dagshub.com/daduke1/nyc-taxi-time-prediction.mlflow/#/experiments/0/runs/7edfee2aabd943d09d2b09a2b634d776.\n",
      "\n",
      "2024/09/20 18:56:45 INFO mlflow.tracking._tracking_service.client: 🧪 View experiment at: https://dagshub.com/daduke1/nyc-taxi-time-prediction.mlflow/#/experiments/0.\n",
      "\n"
     ]
    },
    {
     "name": "stdout",
     "output_type": "stream",
     "text": [
      " 60%|██████    | 6/10 [01:38<01:06, 16.75s/trial, best loss: 5.265174169509532] "
     ]
    },
    {
     "name": "stderr",
     "output_type": "stream",
     "text": [
      "2024/09/20 18:56:46 WARNING mlflow.sklearn: Failed to log training dataset information to MLflow Tracking. Reason: 'numpy.ndarray' object has no attribute 'toarray'\n",
      "\n",
      "2024/09/20 18:56:53 WARNING mlflow.models.model: Model logged without a signature and input example. Please set `input_example` parameter when logging the model to auto infer the model signature.\n",
      "\n",
      "2024/09/20 18:56:59 INFO mlflow.tracking._tracking_service.client: 🏃 View run capricious-wren-597 at: https://dagshub.com/daduke1/nyc-taxi-time-prediction.mlflow/#/experiments/0/runs/e555d55ef05f4beaa6c4818175da0dd3.\n",
      "\n",
      "2024/09/20 18:56:59 INFO mlflow.tracking._tracking_service.client: 🧪 View experiment at: https://dagshub.com/daduke1/nyc-taxi-time-prediction.mlflow/#/experiments/0.\n",
      "\n"
     ]
    },
    {
     "name": "stdout",
     "output_type": "stream",
     "text": [
      " 70%|███████   | 7/10 [01:52<00:47, 15.84s/trial, best loss: 5.265174169509532]"
     ]
    },
    {
     "name": "stderr",
     "output_type": "stream",
     "text": [
      "2024/09/20 18:57:00 WARNING mlflow.sklearn: Failed to log training dataset information to MLflow Tracking. Reason: 'numpy.ndarray' object has no attribute 'toarray'\n",
      "\n",
      "2024/09/20 18:57:10 WARNING mlflow.models.model: Model logged without a signature and input example. Please set `input_example` parameter when logging the model to auto infer the model signature.\n",
      "\n",
      "2024/09/20 18:57:17 INFO mlflow.tracking._tracking_service.client: 🏃 View run gregarious-robin-524 at: https://dagshub.com/daduke1/nyc-taxi-time-prediction.mlflow/#/experiments/0/runs/e91634fc690342719a2571565726c03b.\n",
      "\n",
      "2024/09/20 18:57:17 INFO mlflow.tracking._tracking_service.client: 🧪 View experiment at: https://dagshub.com/daduke1/nyc-taxi-time-prediction.mlflow/#/experiments/0.\n",
      "\n"
     ]
    },
    {
     "name": "stdout",
     "output_type": "stream",
     "text": [
      " 80%|████████  | 8/10 [02:09<00:32, 16.31s/trial, best loss: 5.265174169509532]"
     ]
    },
    {
     "name": "stderr",
     "output_type": "stream",
     "text": [
      "2024/09/20 18:57:18 WARNING mlflow.sklearn: Failed to log training dataset information to MLflow Tracking. Reason: 'numpy.ndarray' object has no attribute 'toarray'\n",
      "\n",
      "2024/09/20 18:57:30 WARNING mlflow.models.model: Model logged without a signature and input example. Please set `input_example` parameter when logging the model to auto infer the model signature.\n",
      "\n",
      "2024/09/20 18:57:36 INFO mlflow.tracking._tracking_service.client: 🏃 View run dashing-mouse-210 at: https://dagshub.com/daduke1/nyc-taxi-time-prediction.mlflow/#/experiments/0/runs/89e82ad8566243a3a522a58425d12b22.\n",
      "\n",
      "2024/09/20 18:57:36 INFO mlflow.tracking._tracking_service.client: 🧪 View experiment at: https://dagshub.com/daduke1/nyc-taxi-time-prediction.mlflow/#/experiments/0.\n",
      "\n"
     ]
    },
    {
     "name": "stdout",
     "output_type": "stream",
     "text": [
      " 90%|█████████ | 9/10 [02:29<00:17, 17.19s/trial, best loss: 5.265174169509532]"
     ]
    },
    {
     "name": "stderr",
     "output_type": "stream",
     "text": [
      "2024/09/20 18:57:37 WARNING mlflow.sklearn: Failed to log training dataset information to MLflow Tracking. Reason: 'numpy.ndarray' object has no attribute 'toarray'\n",
      "\n",
      "2024/09/20 18:57:45 WARNING mlflow.models.model: Model logged without a signature and input example. Please set `input_example` parameter when logging the model to auto infer the model signature.\n",
      "\n",
      "2024/09/20 18:57:50 INFO mlflow.tracking._tracking_service.client: 🏃 View run skillful-crane-944 at: https://dagshub.com/daduke1/nyc-taxi-time-prediction.mlflow/#/experiments/0/runs/2378159609454cf18bac068b8fbeb308.\n",
      "\n",
      "2024/09/20 18:57:50 INFO mlflow.tracking._tracking_service.client: 🧪 View experiment at: https://dagshub.com/daduke1/nyc-taxi-time-prediction.mlflow/#/experiments/0.\n",
      "\n"
     ]
    },
    {
     "name": "stdout",
     "output_type": "stream",
     "text": [
      "100%|██████████| 10/10 [02:43<00:00, 16.35s/trial, best loss: 5.265174169509532]\n"
     ]
    },
    {
     "name": "stderr",
     "output_type": "stream",
     "text": [
      "2024/09/20 18:57:51 INFO mlflow.tracking._tracking_service.client: 🏃 View run GradientBoosting Hyperparameter Optimization at: https://dagshub.com/daduke1/nyc-taxi-time-prediction.mlflow/#/experiments/0/runs/b8cf710cafde47b8b656764333e2eb7b.\n",
      "2024/09/20 18:57:51 INFO mlflow.tracking._tracking_service.client: 🧪 View experiment at: https://dagshub.com/daduke1/nyc-taxi-time-prediction.mlflow/#/experiments/0.\n"
     ]
    }
   ],
   "source": [
    "# Function to calculate RMSE\n",
    "def root_mean_squared_error(y_true, y_pred):\n",
    "    return np.sqrt(mean_squared_error(y_true, y_pred))\n",
    "\n",
    "# Define the objective function for Gradient Boosting\n",
    "def objective(params):\n",
    "    with mlflow.start_run(nested=True):\n",
    "        mlflow.set_tag(\"model_family\", \"GradientBoosting\")\n",
    "        mlflow.log_params(params)\n",
    "        \n",
    "        # Train Gradient Boosting model\n",
    "        model = GradientBoostingRegressor(**params)\n",
    "        model.fit(X_train, y_train)\n",
    "        \n",
    "        # Log the trained model\n",
    "        mlflow.sklearn.log_model(model, artifact_path=\"model\")\n",
    "        \n",
    "        # Predictions and RMSE on validation set\n",
    "        y_pred = model.predict(X_val)\n",
    "        rmse = root_mean_squared_error(y_val, y_pred)\n",
    "        \n",
    "        mlflow.log_metric(\"rmse\", rmse)\n",
    "        \n",
    "    return {'loss': rmse, 'status': STATUS_OK}\n",
    "\n",
    "# MLflow autologging for Scikit-learn models\n",
    "mlflow.sklearn.autolog()\n",
    "\n",
    "# Define search space for Gradient Boosting Regressor\n",
    "gb_search_space = {\n",
    "    'n_estimators': scope.int(hp.quniform('n_estimators', 50, 300, 1)),\n",
    "    'learning_rate': hp.loguniform('learning_rate', -3, 0),\n",
    "    'max_depth': scope.int(hp.quniform('max_depth', 3, 10, 1)),\n",
    "    'subsample': hp.uniform('subsample', 0.6, 1.0),\n",
    "    'random_state': 42\n",
    "}\n",
    "\n",
    "# Hyperparameter Optimization for Gradient Boosting\n",
    "with mlflow.start_run(run_name=\"GradientBoosting Hyperparameter Optimization\", nested=True):\n",
    "    gb_trials = Trials()\n",
    "    best_gb_params = fmin(\n",
    "        fn=objective,\n",
    "        space=gb_search_space,\n",
    "        algo=tpe.suggest,\n",
    "        max_evals=10,\n",
    "        trials=gb_trials\n",
    "    )\n",
    "    \n",
    "    # Convert the best params back to int where necessary\n",
    "    best_gb_params[\"n_estimators\"] = int(best_gb_params[\"n_estimators\"])\n",
    "    best_gb_params[\"max_depth\"] = int(best_gb_params[\"max_depth\"])\n",
    "    \n",
    "    mlflow.log_params(best_gb_params)"
   ]
  },
  {
   "cell_type": "markdown",
   "id": "00969bde-59b4-4817-9019-3dc8f2328874",
   "metadata": {},
   "source": [
    "Random Forest"
   ]
  },
  {
   "cell_type": "code",
   "execution_count": 24,
   "id": "28580606-2edc-44bf-a896-3e17142a93af",
   "metadata": {},
   "outputs": [
    {
     "name": "stdout",
     "output_type": "stream",
     "text": [
      "  0%|          | 0/10 [00:00<?, ?trial/s, best loss=?]"
     ]
    },
    {
     "name": "stderr",
     "output_type": "stream",
     "text": [
      "2024/09/20 18:58:03 WARNING mlflow.sklearn: Failed to log training dataset information to MLflow Tracking. Reason: 'numpy.ndarray' object has no attribute 'toarray'\n",
      "\n",
      "2024/09/20 18:58:12 WARNING mlflow.models.model: Model logged without a signature and input example. Please set `input_example` parameter when logging the model to auto infer the model signature.\n",
      "\n",
      "2024/09/20 18:58:18 INFO mlflow.tracking._tracking_service.client: 🏃 View run brawny-roo-912 at: https://dagshub.com/daduke1/nyc-taxi-time-prediction.mlflow/#/experiments/0/runs/817b768a1fe24cb198cf222d644ec6bd.\n",
      "\n",
      "2024/09/20 18:58:18 INFO mlflow.tracking._tracking_service.client: 🧪 View experiment at: https://dagshub.com/daduke1/nyc-taxi-time-prediction.mlflow/#/experiments/0.\n",
      "\n"
     ]
    },
    {
     "name": "stdout",
     "output_type": "stream",
     "text": [
      " 10%|█         | 1/10 [00:15<02:19, 15.50s/trial, best loss: 5.510058937507135]"
     ]
    },
    {
     "name": "stderr",
     "output_type": "stream",
     "text": [
      "2024/09/20 18:58:19 WARNING mlflow.sklearn: Failed to log training dataset information to MLflow Tracking. Reason: 'numpy.ndarray' object has no attribute 'toarray'\n",
      "\n",
      "2024/09/20 18:58:26 WARNING mlflow.models.model: Model logged without a signature and input example. Please set `input_example` parameter when logging the model to auto infer the model signature.\n",
      "\n",
      "2024/09/20 18:58:32 INFO mlflow.tracking._tracking_service.client: 🏃 View run trusting-owl-502 at: https://dagshub.com/daduke1/nyc-taxi-time-prediction.mlflow/#/experiments/0/runs/b9fe5312f4c940c3b6a919677146af0d.\n",
      "\n",
      "2024/09/20 18:58:32 INFO mlflow.tracking._tracking_service.client: 🧪 View experiment at: https://dagshub.com/daduke1/nyc-taxi-time-prediction.mlflow/#/experiments/0.\n",
      "\n"
     ]
    },
    {
     "name": "stdout",
     "output_type": "stream",
     "text": [
      " 20%|██        | 2/10 [00:29<01:57, 14.68s/trial, best loss: 5.492740980429902]"
     ]
    },
    {
     "name": "stderr",
     "output_type": "stream",
     "text": [
      "2024/09/20 18:58:33 WARNING mlflow.sklearn: Failed to log training dataset information to MLflow Tracking. Reason: 'numpy.ndarray' object has no attribute 'toarray'\n",
      "\n",
      "2024/09/20 18:58:49 WARNING mlflow.models.model: Model logged without a signature and input example. Please set `input_example` parameter when logging the model to auto infer the model signature.\n",
      "\n",
      "2024/09/20 18:58:56 INFO mlflow.tracking._tracking_service.client: 🏃 View run capable-shrike-265 at: https://dagshub.com/daduke1/nyc-taxi-time-prediction.mlflow/#/experiments/0/runs/38c9dce12cd34885b8cd6182e32e43ab.\n",
      "\n",
      "2024/09/20 18:58:56 INFO mlflow.tracking._tracking_service.client: 🧪 View experiment at: https://dagshub.com/daduke1/nyc-taxi-time-prediction.mlflow/#/experiments/0.\n",
      "\n"
     ]
    },
    {
     "name": "stdout",
     "output_type": "stream",
     "text": [
      " 30%|███       | 3/10 [00:53<02:12, 18.87s/trial, best loss: 5.385856874093268]"
     ]
    },
    {
     "name": "stderr",
     "output_type": "stream",
     "text": [
      "2024/09/20 18:58:57 WARNING mlflow.sklearn: Failed to log training dataset information to MLflow Tracking. Reason: 'numpy.ndarray' object has no attribute 'toarray'\n",
      "\n",
      "2024/09/20 18:59:21 WARNING mlflow.models.model: Model logged without a signature and input example. Please set `input_example` parameter when logging the model to auto infer the model signature.\n",
      "\n",
      "2024/09/20 18:59:29 INFO mlflow.tracking._tracking_service.client: 🏃 View run adorable-mouse-419 at: https://dagshub.com/daduke1/nyc-taxi-time-prediction.mlflow/#/experiments/0/runs/1c9eebd6b2e6458c8223ebb67a3e0b83.\n",
      "\n",
      "2024/09/20 18:59:29 INFO mlflow.tracking._tracking_service.client: 🧪 View experiment at: https://dagshub.com/daduke1/nyc-taxi-time-prediction.mlflow/#/experiments/0.\n",
      "\n"
     ]
    },
    {
     "name": "stdout",
     "output_type": "stream",
     "text": [
      " 40%|████      | 4/10 [01:26<02:27, 24.63s/trial, best loss: 5.373145479605618]"
     ]
    },
    {
     "name": "stderr",
     "output_type": "stream",
     "text": [
      "2024/09/20 18:59:30 WARNING mlflow.sklearn: Failed to log training dataset information to MLflow Tracking. Reason: 'numpy.ndarray' object has no attribute 'toarray'\n",
      "\n",
      "2024/09/20 18:59:52 WARNING mlflow.models.model: Model logged without a signature and input example. Please set `input_example` parameter when logging the model to auto infer the model signature.\n",
      "\n",
      "2024/09/20 19:00:00 INFO mlflow.tracking._tracking_service.client: 🏃 View run powerful-wren-751 at: https://dagshub.com/daduke1/nyc-taxi-time-prediction.mlflow/#/experiments/0/runs/78d82fb311aa4d869b7dd83ffca3cf72.\n",
      "\n",
      "2024/09/20 19:00:00 INFO mlflow.tracking._tracking_service.client: 🧪 View experiment at: https://dagshub.com/daduke1/nyc-taxi-time-prediction.mlflow/#/experiments/0.\n",
      "\n"
     ]
    },
    {
     "name": "stdout",
     "output_type": "stream",
     "text": [
      " 50%|█████     | 5/10 [01:58<02:15, 27.05s/trial, best loss: 5.373145479605618]"
     ]
    },
    {
     "name": "stderr",
     "output_type": "stream",
     "text": [
      "2024/09/20 19:00:01 WARNING mlflow.sklearn: Failed to log training dataset information to MLflow Tracking. Reason: 'numpy.ndarray' object has no attribute 'toarray'\n",
      "\n",
      "2024/09/20 19:00:56 WARNING mlflow.models.model: Model logged without a signature and input example. Please set `input_example` parameter when logging the model to auto infer the model signature.\n",
      "\n",
      "2024/09/20 19:01:08 INFO mlflow.tracking._tracking_service.client: 🏃 View run incongruous-loon-728 at: https://dagshub.com/daduke1/nyc-taxi-time-prediction.mlflow/#/experiments/0/runs/a75a8bcd5d6245dbba58d845e3da77e9.\n",
      "\n",
      "2024/09/20 19:01:08 INFO mlflow.tracking._tracking_service.client: 🧪 View experiment at: https://dagshub.com/daduke1/nyc-taxi-time-prediction.mlflow/#/experiments/0.\n",
      "\n"
     ]
    },
    {
     "name": "stdout",
     "output_type": "stream",
     "text": [
      " 60%|██████    | 6/10 [03:06<02:43, 40.92s/trial, best loss: 5.333793209457883]"
     ]
    },
    {
     "name": "stderr",
     "output_type": "stream",
     "text": [
      "2024/09/20 19:01:09 WARNING mlflow.sklearn: Failed to log training dataset information to MLflow Tracking. Reason: 'numpy.ndarray' object has no attribute 'toarray'\n",
      "\n",
      "2024/09/20 19:01:19 WARNING mlflow.models.model: Model logged without a signature and input example. Please set `input_example` parameter when logging the model to auto infer the model signature.\n",
      "\n",
      "2024/09/20 19:01:25 INFO mlflow.tracking._tracking_service.client: 🏃 View run popular-wren-927 at: https://dagshub.com/daduke1/nyc-taxi-time-prediction.mlflow/#/experiments/0/runs/a2b3edd4fc0f46b58b693f302152f55b.\n",
      "\n",
      "2024/09/20 19:01:25 INFO mlflow.tracking._tracking_service.client: 🧪 View experiment at: https://dagshub.com/daduke1/nyc-taxi-time-prediction.mlflow/#/experiments/0.\n",
      "\n"
     ]
    },
    {
     "name": "stdout",
     "output_type": "stream",
     "text": [
      " 70%|███████   | 7/10 [03:22<01:38, 32.99s/trial, best loss: 5.333793209457883]"
     ]
    },
    {
     "name": "stderr",
     "output_type": "stream",
     "text": [
      "2024/09/20 19:01:26 WARNING mlflow.sklearn: Failed to log training dataset information to MLflow Tracking. Reason: 'numpy.ndarray' object has no attribute 'toarray'\n",
      "\n",
      "2024/09/20 19:01:54 WARNING mlflow.models.model: Model logged without a signature and input example. Please set `input_example` parameter when logging the model to auto infer the model signature.\n",
      "\n",
      "2024/09/20 19:02:15 INFO mlflow.tracking._tracking_service.client: 🏃 View run gifted-croc-654 at: https://dagshub.com/daduke1/nyc-taxi-time-prediction.mlflow/#/experiments/0/runs/8b07246c3f6f4258aad99ae024c9256e.\n",
      "\n",
      "2024/09/20 19:02:15 INFO mlflow.tracking._tracking_service.client: 🧪 View experiment at: https://dagshub.com/daduke1/nyc-taxi-time-prediction.mlflow/#/experiments/0.\n",
      "\n"
     ]
    },
    {
     "name": "stdout",
     "output_type": "stream",
     "text": [
      " 80%|████████  | 8/10 [04:13<01:17, 38.53s/trial, best loss: 5.333793209457883]"
     ]
    },
    {
     "name": "stderr",
     "output_type": "stream",
     "text": [
      "2024/09/20 19:02:16 WARNING mlflow.sklearn: Failed to log training dataset information to MLflow Tracking. Reason: 'numpy.ndarray' object has no attribute 'toarray'\n",
      "\n",
      "2024/09/20 19:03:19 WARNING mlflow.models.model: Model logged without a signature and input example. Please set `input_example` parameter when logging the model to auto infer the model signature.\n",
      "\n",
      "2024/09/20 19:03:31 INFO mlflow.tracking._tracking_service.client: 🏃 View run clean-flea-537 at: https://dagshub.com/daduke1/nyc-taxi-time-prediction.mlflow/#/experiments/0/runs/08c0c7db2b344234abbe231795891e79.\n",
      "\n",
      "2024/09/20 19:03:31 INFO mlflow.tracking._tracking_service.client: 🧪 View experiment at: https://dagshub.com/daduke1/nyc-taxi-time-prediction.mlflow/#/experiments/0.\n",
      "\n"
     ]
    },
    {
     "name": "stdout",
     "output_type": "stream",
     "text": [
      " 90%|█████████ | 9/10 [05:28<00:50, 50.01s/trial, best loss: 5.333793209457883]"
     ]
    },
    {
     "name": "stderr",
     "output_type": "stream",
     "text": [
      "2024/09/20 19:03:31 WARNING mlflow.sklearn: Failed to log training dataset information to MLflow Tracking. Reason: 'numpy.ndarray' object has no attribute 'toarray'\n",
      "\n",
      "2024/09/20 19:04:00 WARNING mlflow.models.model: Model logged without a signature and input example. Please set `input_example` parameter when logging the model to auto infer the model signature.\n",
      "\n",
      "2024/09/20 19:04:12 INFO mlflow.tracking._tracking_service.client: 🏃 View run bold-fowl-217 at: https://dagshub.com/daduke1/nyc-taxi-time-prediction.mlflow/#/experiments/0/runs/2b68cf40ee624b43992fc38ea422c735.\n",
      "\n",
      "2024/09/20 19:04:12 INFO mlflow.tracking._tracking_service.client: 🧪 View experiment at: https://dagshub.com/daduke1/nyc-taxi-time-prediction.mlflow/#/experiments/0.\n",
      "\n"
     ]
    },
    {
     "name": "stdout",
     "output_type": "stream",
     "text": [
      "100%|██████████| 10/10 [06:09<00:00, 36.98s/trial, best loss: 5.333793209457883]\n"
     ]
    },
    {
     "name": "stderr",
     "output_type": "stream",
     "text": [
      "2024/09/20 19:04:12 INFO mlflow.tracking._tracking_service.client: 🏃 View run RandomForest Hyperparameter Optimization at: https://dagshub.com/daduke1/nyc-taxi-time-prediction.mlflow/#/experiments/0/runs/8d50e2af26764056a3ca715fac2887d8.\n",
      "2024/09/20 19:04:12 INFO mlflow.tracking._tracking_service.client: 🧪 View experiment at: https://dagshub.com/daduke1/nyc-taxi-time-prediction.mlflow/#/experiments/0.\n"
     ]
    }
   ],
   "source": [
    "# Define the objective function for Random Forest\n",
    "def objective(params):\n",
    "    with mlflow.start_run(nested=True):\n",
    "        mlflow.set_tag(\"model_family\", \"RandomForest\")\n",
    "        mlflow.log_params(params)\n",
    "        \n",
    "        # Train Random Forest model\n",
    "        model = RandomForestRegressor(**params)\n",
    "        model.fit(X_train, y_train)\n",
    "        \n",
    "        # Log the trained model\n",
    "        mlflow.sklearn.log_model(model, artifact_path=\"model\")\n",
    "        \n",
    "        # Predictions and RMSE on validation set\n",
    "        y_pred = model.predict(X_val)\n",
    "        rmse = root_mean_squared_error(y_val, y_pred)\n",
    "        \n",
    "        mlflow.log_metric(\"rmse\", rmse)\n",
    "        \n",
    "    return {'loss': rmse, 'status': STATUS_OK}\n",
    "\n",
    "# MLflow autologging for Scikit-learn models\n",
    "mlflow.sklearn.autolog()\n",
    "\n",
    "# Define search space for Random Forest\n",
    "rf_search_space = {\n",
    "    'n_estimators': scope.int(hp.quniform('n_estimators', 50, 300, 1)),\n",
    "    'max_depth': scope.int(hp.quniform('max_depth', 4, 20, 1)),\n",
    "    'min_samples_split': scope.int(hp.quniform('min_samples_split', 2, 10, 1)),\n",
    "    'min_samples_leaf': scope.int(hp.quniform('min_samples_leaf', 1, 5, 1)),\n",
    "    'random_state': 42\n",
    "}\n",
    "\n",
    "# Hyperparameter Optimization for Random Forest\n",
    "with mlflow.start_run(run_name=\"RandomForest Hyperparameter Optimization\", nested=True):\n",
    "    rf_trials = Trials()\n",
    "    best_rf_params = fmin(\n",
    "        fn=objective,\n",
    "        space=rf_search_space,\n",
    "        algo=tpe.suggest,\n",
    "        max_evals=10,\n",
    "        trials=rf_trials\n",
    "    )\n",
    "    \n",
    "    # Convert the best params back to int where necessary\n",
    "    best_rf_params[\"n_estimators\"] = int(best_rf_params[\"n_estimators\"])\n",
    "    best_rf_params[\"max_depth\"] = int(best_rf_params[\"max_depth\"])\n",
    "    best_rf_params[\"min_samples_split\"] = int(best_rf_params[\"min_samples_split\"])\n",
    "    best_rf_params[\"min_samples_leaf\"] = int(best_rf_params[\"min_samples_leaf\"])\n",
    "    \n",
    "    mlflow.log_params(best_rf_params)"
   ]
  },
  {
   "cell_type": "markdown",
   "id": "032691f6-0d61-4f13-ba95-4eb61ae56478",
   "metadata": {},
   "source": [
    "Ahora vamos a registrar el mejor modelo en el model registry y usarlo para hacer predicciones"
   ]
  },
  {
   "cell_type": "code",
   "execution_count": 25,
   "id": "df73130f-339b-400f-82ee-a5278195197e",
   "metadata": {},
   "outputs": [
    {
     "name": "stdin",
     "output_type": "stream",
     "text": [
      "Ingrese el run_id 1dff56afbeca42d9920acff77490716e\n"
     ]
    },
    {
     "name": "stderr",
     "output_type": "stream",
     "text": [
      "Registered model 'nyc-taxi-model' already exists. Creating a new version of this model...\n",
      "2024/09/20 19:05:53 INFO mlflow.store.model_registry.abstract_store: Waiting up to 300 seconds for model version to finish creation. Model name: nyc-taxi-model, version 2\n",
      "Created version '2' of model 'nyc-taxi-model'.\n"
     ]
    }
   ],
   "source": [
    "run_id = input(\"Ingrese el run_id\")\n",
    "run_uri = f\"runs:/{run_id}/model\"\n",
    "\n",
    "result = mlflow.register_model(\n",
    "    model_uri=run_uri,\n",
    "    name=\"nyc-taxi-model\"\n",
    ")"
   ]
  },
  {
   "cell_type": "markdown",
   "id": "7142c101-5f72-43b1-b80d-2ea022da149e",
   "metadata": {},
   "source": [
    "Ahora a asignarle la etiqueta de challenger"
   ]
  },
  {
   "cell_type": "code",
   "execution_count": 27,
   "id": "d815acd5-51b0-4d1e-a444-62b1d3eade22",
   "metadata": {},
   "outputs": [
    {
     "data": {
      "text/plain": [
       "<ModelVersion: aliases=['challenger'], creation_timestamp=1726880754021, current_stage='None', description=('The model version 2 was transitioned to challenger on 2024-09-20 '\n",
       " '19:07:45.540020'), last_updated_timestamp=1726880865919, name='nyc-taxi-model', run_id='1dff56afbeca42d9920acff77490716e', run_link='', source='mlflow-artifacts:/655077ef21ea4d658c388a4f45673d3f/1dff56afbeca42d9920acff77490716e/artifacts/model', status='READY', status_message='', tags={}, user_id='', version='2'>"
      ]
     },
     "execution_count": 27,
     "metadata": {},
     "output_type": "execute_result"
    }
   ],
   "source": [
    "from datetime import datetime\n",
    "from mlflow import MlflowClient\n",
    "\n",
    "client = MlflowClient(tracking_uri=MLFLOW_TRACKING_URI)\n",
    "client.update_registered_model(\n",
    "    name=\"nyc-taxi-model\",\n",
    "    description=\"Model registry for the NYC Taxi Time Prediction Project\",\n",
    ")\n",
    "\n",
    "new_alias = \"challenger\"\n",
    "date = datetime.today()\n",
    "model_version = \"2\"\n",
    "\n",
    "# create \"champion\" alias for version 1 of model \"nyc-taxi-model\"\n",
    "client.set_registered_model_alias(\n",
    "    name=\"nyc-taxi-model\",\n",
    "    alias=new_alias,\n",
    "    version=model_version\n",
    ")\n",
    "\n",
    "client.update_model_version(\n",
    "    name=\"nyc-taxi-model\",\n",
    "    version=model_version,\n",
    "    description=f\"The model version {model_version} was transitioned to {new_alias} on {date}\",\n",
    ")"
   ]
  },
  {
   "cell_type": "markdown",
   "id": "8f9e7ad4-cd4a-4217-bc6d-a9fe7828c346",
   "metadata": {},
   "source": [
    "Descargar los datos de marzo"
   ]
  },
  {
   "cell_type": "code",
   "execution_count": 34,
   "id": "084bd82d-b45c-4432-93a8-c7250865b7f9",
   "metadata": {},
   "outputs": [
    {
     "name": "stdout",
     "output_type": "stream",
     "text": [
      "  % Total    % Received % Xferd  Average Speed   Time    Time     Time  Current\n",
      "                                 Dload  Upload   Total   Spent    Left  Speed\n",
      "100 1340k  100 1340k    0     0  4224k      0 --:--:-- --:--:-- --:--:-- 4227k\n"
     ]
    }
   ],
   "source": [
    "!curl -o ../data/green_tripdata_2024-03.parquet https://d37ci6vzurychx.cloudfront.net/trip-data/green_tripdata_2024-03.parquet"
   ]
  },
  {
   "cell_type": "code",
   "execution_count": 35,
   "id": "9e8d64b5-5c2d-45ad-a3e6-1f949ad275ed",
   "metadata": {},
   "outputs": [
    {
     "data": {
      "text/html": [
       "<pre style=\"white-space:pre;overflow-x:auto;line-height:normal;font-family:Menlo,'DejaVu Sans Mono',consolas,'Courier New',monospace\">Client created. Use the name of the repo <span style=\"font-weight: bold\">(</span>nyc-taxi-time-prediction<span style=\"font-weight: bold\">)</span> as the name of the bucket\n",
       "</pre>\n"
      ],
      "text/plain": [
       "Client created. Use the name of the repo \u001B[1m(\u001B[0mnyc-taxi-time-prediction\u001B[1m)\u001B[0m as the name of the bucket\n"
      ]
     },
     "metadata": {},
     "output_type": "display_data"
    }
   ],
   "source": [
    "# Cargarlos al storage de mlflow\n",
    "from dagshub import get_repo_bucket_client\n",
    "# Get a boto3.client object\n",
    "s3 = get_repo_bucket_client(\"daduke1/nyc-taxi-time-prediction\")\n",
    "\n",
    "# Upload val file\n",
    "s3.upload_file(\n",
    "    Bucket=\"nyc-taxi-time-prediction\",  # name of the repo\n",
    "    Filename=\"../data/green_tripdata_2024-03.parquet\",  # local path of file to upload\n",
    "    Key=\"val_data.parquet\",  # remote path where to upload the file\n",
    ")"
   ]
  },
  {
   "cell_type": "markdown",
   "id": "ab52e447-8806-45ee-b4cb-23b806ff2061",
   "metadata": {},
   "source": [
    "Usar el champion y el challenger en los datos de marzo"
   ]
  },
  {
   "cell_type": "code",
   "execution_count": 36,
   "id": "7250a615-cef4-4a4c-a7f3-edac334078de",
   "metadata": {},
   "outputs": [],
   "source": [
    "df_marzo = read_dataframe('../data/green_tripdata_2024-03.parquet')"
   ]
  },
  {
   "cell_type": "code",
   "execution_count": 37,
   "id": "1eefbe11-b885-4b87-927e-af6842c842dd",
   "metadata": {},
   "outputs": [],
   "source": [
    "df_marzo['PU_DO'] = df_marzo['PULocationID'] + '_' + df_marzo['DOLocationID']"
   ]
  },
  {
   "cell_type": "code",
   "execution_count": 41,
   "id": "c19e55b2-5ea8-49b2-82e7-39bb32f219f2",
   "metadata": {},
   "outputs": [],
   "source": [
    "val_dicts = df_marzo[categorical + numerical].to_dict(orient='records')\n",
    "X_marzo = dv.transform(val_dicts)\n",
    "\n",
    "target = 'duration'\n",
    "y_marzo_val = df_marzo[target].values\n",
    "y_marzo_val = df_marzo[target].values"
   ]
  },
  {
   "cell_type": "code",
   "execution_count": 43,
   "id": "3f3c2376-5b7e-4a43-b582-a0ccd9de4a59",
   "metadata": {},
   "outputs": [
    {
     "data": {
      "application/vnd.jupyter.widget-view+json": {
       "model_id": "5385611941e746f2ba51521944debe97",
       "version_major": 2,
       "version_minor": 0
      },
      "text/plain": [
       "Downloading artifacts:   0%|          | 0/5 [00:00<?, ?it/s]"
      ]
     },
     "metadata": {},
     "output_type": "display_data"
    },
    {
     "name": "stdout",
     "output_type": "stream",
     "text": [
      "RMSE: 5.2124355219162455\n"
     ]
    }
   ],
   "source": [
    "import mlflow.pyfunc\n",
    "\n",
    "model_name = \"nyc-taxi-model\"\n",
    "alias = \"champion\"\n",
    "\n",
    "model_uri = f\"models:/{model_name}@{alias}\"\n",
    "\n",
    "champion_version = mlflow.pyfunc.load_model(\n",
    "    model_uri=model_uri\n",
    ")\n",
    "\n",
    "y_pred_marzo = champion_version.predict(X_marzo)\n",
    "\n",
    "rmse = np.sqrt(mean_squared_error(y_marzo_val, y_pred_marzo))\n",
    "\n",
    "print(f\"RMSE: {rmse}\")"
   ]
  },
  {
   "cell_type": "code",
   "execution_count": 45,
   "id": "4703ce65",
   "metadata": {},
   "outputs": [
    {
     "data": {
      "application/vnd.jupyter.widget-view+json": {
       "model_id": "18d4d36a25e54a2bb873835c45b5bef9",
       "version_major": 2,
       "version_minor": 0
      },
      "text/plain": [
       "Downloading artifacts:   0%|          | 0/5 [00:00<?, ?it/s]"
      ]
     },
     "metadata": {},
     "output_type": "display_data"
    },
    {
     "name": "stdout",
     "output_type": "stream",
     "text": [
      "RMSE: 5.288766959881196\n"
     ]
    }
   ],
   "source": [
    "import mlflow.pyfunc\n",
    "\n",
    "model_name = \"nyc-taxi-model\"\n",
    "alias = \"challenger\"\n",
    "\n",
    "model_uri = f\"models:/{model_name}@{alias}\"\n",
    "\n",
    "challenger_model = mlflow.pyfunc.load_model(model_uri=model_uri)\n",
    "\n",
    "y_pred_marzo = challenger_model.predict(X_marzo)\n",
    "\n",
    "rmse = np.sqrt(mean_squared_error(y_marzo_val, y_pred_marzo))\n",
    "\n",
    "print(f\"RMSE: {rmse}\")\n"
   ]
  },
  {
   "cell_type": "markdown",
   "id": "e62b02ba-9eef-4ee1-94d5-3dd6cd1df065",
   "metadata": {},
   "source": [
    "Como podemos observar, el challenger obtuvo una métrica de 5.288 RMSE, mientras que el champion fue de 5.212 RMSE. Esto indica que el champion sigue siendo mejor, entonces lo dejaremos como champion. Hay que tomar en cuenta que estos datos de marzo, los modelos no los habían visto, lo cual indica que hubo entrenamiento correcto para los dos modelos. También significa que el champion es un modelo bueno, ya que sigue dando buenos resultados inclusive con nuevos datos nunca antes vistos."
   ]
  }
 ],
 "metadata": {
  "kernelspec": {
   "display_name": "Python 3 (ipykernel)",
   "language": "python",
   "name": "python3"
  },
  "language_info": {
   "codemirror_mode": {
    "name": "ipython",
    "version": 3
   },
   "file_extension": ".py",
   "mimetype": "text/x-python",
   "name": "python",
   "nbconvert_exporter": "python",
   "pygments_lexer": "ipython3",
   "version": "3.11.7"
  }
 },
 "nbformat": 4,
 "nbformat_minor": 5
}
